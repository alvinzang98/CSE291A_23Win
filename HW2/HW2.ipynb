{
 "cells": [
  {
   "cell_type": "code",
   "execution_count": 2,
   "metadata": {},
   "outputs": [],
   "source": [
    "import sapien.core as sapien\n",
    "from sapien.utils import Viewer"
   ]
  },
  {
   "cell_type": "code",
   "execution_count": null,
   "metadata": {},
   "outputs": [],
   "source": [
    "import sapien.core as sapien\n",
    "from sapien.utils.viewer import Viewer\n",
    "\n",
    "\n",
    "def demo(fix_root_link, balance_passive_force):\n",
    "    engine = sapien.Engine()\n",
    "    renderer = sapien.SapienRenderer()\n",
    "    engine.set_renderer(renderer)\n",
    "\n",
    "    scene_config = sapien.SceneConfig()\n",
    "    scene = engine.create_scene(scene_config)\n",
    "    scene.set_timestep(1 / 240.0)\n",
    "    scene.add_ground(0)\n",
    "\n",
    "    scene.set_ambient_light([0.5, 0.5, 0.5])\n",
    "    scene.add_directional_light([0, 1, -1], [0.5, 0.5, 0.5])\n",
    "\n",
    "    viewer = Viewer(renderer)\n",
    "    viewer.set_scene(scene)\n",
    "    viewer.set_camera_xyz(x=-2, y=0, z=1)\n",
    "    viewer.set_camera_rpy(r=0, p=-0.3, y=0)\n",
    "\n",
    "    # Load URDF\n",
    "    loader: sapien.URDFLoader = scene.create_urdf_loader()\n",
    "    loader.fix_root_link = fix_root_link\n",
    "    robot: sapien.Articulation = loader.load(\"../assets/robot/jaco2/jaco2.urdf\")\n",
    "    robot.set_root_pose(sapien.Pose([0, 0, 0], [1, 0, 0, 0]))\n",
    "\n",
    "    # Set initial joint positions\n",
    "    arm_init_qpos = [4.71, 2.84, 0, 0.75, 4.62, 4.48, 4.88]\n",
    "    gripper_init_qpos = [0, 0, 0, 0, 0, 0]\n",
    "    init_qpos = arm_init_qpos + gripper_init_qpos\n",
    "    robot.set_qpos(init_qpos)\n",
    "\n",
    "    while not viewer.closed:\n",
    "        for _ in range(4):  # render every 4 steps\n",
    "            if balance_passive_force:\n",
    "                qf = robot.compute_passive_force(\n",
    "                    gravity=True, \n",
    "                    coriolis_and_centrifugal=True, \n",
    "                )\n",
    "                robot.set_qf(qf)\n",
    "            scene.step()\n",
    "        scene.update_render()\n",
    "        viewer.render()\n",
    "\n",
    "\n",
    "def main():\n",
    "    import argparse\n",
    "    parser = argparse.ArgumentParser()\n",
    "    parser.add_argument('--fix-root-link', action='store_true')\n",
    "    parser.add_argument('--balance-passive-force', action='store_true')\n",
    "    args = parser.parse_args()\n",
    "\n",
    "    demo(fix_root_link=args.fix_root_link,\n",
    "         balance_passive_force=args.balance_passive_force)\n",
    "\n",
    "\n",
    "if __name__ == '__main__':\n",
    "    main()"
   ]
  },
  {
   "cell_type": "code",
   "execution_count": 3,
   "metadata": {},
   "outputs": [
    {
     "name": "stderr",
     "output_type": "stream",
     "text": [
      "MESA-INTEL: warning: Performance support disabled, consider sysctl dev.i915.perf_stream_paranoid=0\n",
      "\n"
     ]
    }
   ],
   "source": [
    "engine = sapien.Engine()\n",
    "renderer = sapien.SapienRenderer()\n",
    "engine.set_renderer(renderer)\n",
    "\n",
    "scene_config = sapien.SceneConfig()\n",
    "scene = engine.create_scene(scene_config)\n",
    "scene.set_timestep(1 / 240.0)\n",
    "scene.add_ground(0)\n",
    "\n",
    "scene.set_ambient_light([0.5, 0.5, 0.5])\n",
    "scene.add_directional_light([0, 1, -1], [0.5, 0.5, 0.5])\n",
    "\n",
    "viewer = Viewer(renderer)\n",
    "viewer.set_scene(scene)\n",
    "viewer.set_camera_xyz(x=-2, y=0, z=1)\n",
    "viewer.set_camera_rpy(r=0, p=-0.3, y=0)\n",
    "\n",
    "# Load URDF\n",
    "loader: sapien.URDFLoader = scene.create_urdf_loader()\n",
    "robot: sapien.Articulation = loader.load(\"descriptions/panda_v2.urdf\")\n",
    "robot.set_root_pose(sapien.Pose([0, 0, 0], [1, 0, 0, 0]))\n",
    "\n",
    "while not viewer.closed:  # Press key q to quit\n",
    "        scene.step()  # Simulate the world\n",
    "        scene.update_render()  # Update the world to the renderer\n",
    "        viewer.render()"
   ]
  },
  {
   "cell_type": "code",
   "execution_count": 4,
   "metadata": {},
   "outputs": [
    {
     "ename": "ImportError",
     "evalue": "cannot import name 'register_env' from partially initialized module 'mani_skill2.utils.registration' (most likely due to a circular import) (/home/alvin/miniconda3/envs/ece/lib/python3.9/site-packages/mani_skill2/utils/registration.py)",
     "output_type": "error",
     "traceback": [
      "\u001b[0;31m---------------------------------------------------------------------------\u001b[0m",
      "\u001b[0;31mImportError\u001b[0m                               Traceback (most recent call last)",
      "\u001b[1;32m/home/alvin/Study/CSE291A_23Win/HW2/HW2.ipynb Cell 4\u001b[0m in \u001b[0;36m<cell line: 1>\u001b[0;34m()\u001b[0m\n\u001b[0;32m----> <a href='vscode-notebook-cell:/home/alvin/Study/CSE291A_23Win/HW2/HW2.ipynb#W6sZmlsZQ%3D%3D?line=0'>1</a>\u001b[0m \u001b[39mfrom\u001b[39;00m \u001b[39mmani_skill2\u001b[39;00m\u001b[39m.\u001b[39;00m\u001b[39mutils\u001b[39;00m\u001b[39m.\u001b[39;00m\u001b[39mregistration\u001b[39;00m \u001b[39mimport\u001b[39;00m register_env\n",
      "File \u001b[0;32m~/miniconda3/envs/ece/lib/python3.9/site-packages/mani_skill2/utils/registration.py:9\u001b[0m, in \u001b[0;36m<module>\u001b[0;34m\u001b[0m\n\u001b[1;32m      6\u001b[0m \u001b[39mfrom\u001b[39;00m \u001b[39mgym\u001b[39;00m\u001b[39m.\u001b[39;00m\u001b[39menvs\u001b[39;00m\u001b[39m.\u001b[39;00m\u001b[39mregistration\u001b[39;00m \u001b[39mimport\u001b[39;00m EnvSpec \u001b[39mas\u001b[39;00m GymEnvSpec\n\u001b[1;32m      8\u001b[0m \u001b[39mfrom\u001b[39;00m \u001b[39mmani_skill2\u001b[39;00m \u001b[39mimport\u001b[39;00m logger\n\u001b[0;32m----> 9\u001b[0m \u001b[39mfrom\u001b[39;00m \u001b[39mmani_skill2\u001b[39;00m\u001b[39m.\u001b[39;00m\u001b[39menvs\u001b[39;00m\u001b[39m.\u001b[39;00m\u001b[39msapien_env\u001b[39;00m \u001b[39mimport\u001b[39;00m BaseEnv\n\u001b[1;32m     10\u001b[0m \u001b[39mfrom\u001b[39;00m \u001b[39mmani_skill2\u001b[39;00m\u001b[39m.\u001b[39;00m\u001b[39mutils\u001b[39;00m\u001b[39m.\u001b[39;00m\u001b[39mwrappers\u001b[39;00m\u001b[39m.\u001b[39;00m\u001b[39mobservation\u001b[39;00m \u001b[39mimport\u001b[39;00m (\n\u001b[1;32m     11\u001b[0m     PointCloudObservationWrapper,\n\u001b[1;32m     12\u001b[0m     RGBDObservationWrapper,\n\u001b[1;32m     13\u001b[0m     RobotSegmentationObservationWrapper,\n\u001b[1;32m     14\u001b[0m )\n\u001b[1;32m     17\u001b[0m \u001b[39mclass\u001b[39;00m \u001b[39mEnvSpec\u001b[39;00m:\n",
      "File \u001b[0;32m~/miniconda3/envs/ece/lib/python3.9/site-packages/mani_skill2/envs/__init__.py:1\u001b[0m, in \u001b[0;36m<module>\u001b[0;34m\u001b[0m\n\u001b[0;32m----> 1\u001b[0m \u001b[39mfrom\u001b[39;00m \u001b[39m.\u001b[39;00m\u001b[39massembly\u001b[39;00m \u001b[39mimport\u001b[39;00m \u001b[39m*\u001b[39m\n\u001b[1;32m      2\u001b[0m \u001b[39mfrom\u001b[39;00m \u001b[39m.\u001b[39;00m\u001b[39mpick_and_place\u001b[39;00m \u001b[39mimport\u001b[39;00m \u001b[39m*\u001b[39m\n\u001b[1;32m      3\u001b[0m \u001b[39mfrom\u001b[39;00m \u001b[39m.\u001b[39;00m\u001b[39mmisc\u001b[39;00m \u001b[39mimport\u001b[39;00m \u001b[39m*\u001b[39m\n",
      "File \u001b[0;32m~/miniconda3/envs/ece/lib/python3.9/site-packages/mani_skill2/envs/assembly/__init__.py:2\u001b[0m, in \u001b[0;36m<module>\u001b[0;34m\u001b[0m\n\u001b[1;32m      1\u001b[0m \u001b[39m# isort: off\u001b[39;00m\n\u001b[0;32m----> 2\u001b[0m \u001b[39mfrom\u001b[39;00m \u001b[39m.\u001b[39;00m \u001b[39mimport\u001b[39;00m assembling_kits\n\u001b[1;32m      3\u001b[0m \u001b[39mfrom\u001b[39;00m \u001b[39m.\u001b[39;00m \u001b[39mimport\u001b[39;00m peg_insertion_side\n\u001b[1;32m      4\u001b[0m \u001b[39mfrom\u001b[39;00m \u001b[39m.\u001b[39;00m \u001b[39mimport\u001b[39;00m plug_charger\n",
      "File \u001b[0;32m~/miniconda3/envs/ece/lib/python3.9/site-packages/mani_skill2/envs/assembly/assembling_kits.py:10\u001b[0m, in \u001b[0;36m<module>\u001b[0;34m\u001b[0m\n\u001b[1;32m      8\u001b[0m \u001b[39mfrom\u001b[39;00m \u001b[39mmani_skill2\u001b[39;00m \u001b[39mimport\u001b[39;00m format_path\n\u001b[1;32m      9\u001b[0m \u001b[39mfrom\u001b[39;00m \u001b[39mmani_skill2\u001b[39;00m\u001b[39m.\u001b[39;00m\u001b[39mutils\u001b[39;00m\u001b[39m.\u001b[39;00m\u001b[39mio_utils\u001b[39;00m \u001b[39mimport\u001b[39;00m load_json\n\u001b[0;32m---> 10\u001b[0m \u001b[39mfrom\u001b[39;00m \u001b[39mmani_skill2\u001b[39;00m\u001b[39m.\u001b[39;00m\u001b[39mutils\u001b[39;00m\u001b[39m.\u001b[39;00m\u001b[39mregistration\u001b[39;00m \u001b[39mimport\u001b[39;00m register_env\n\u001b[1;32m     11\u001b[0m \u001b[39mfrom\u001b[39;00m \u001b[39mmani_skill2\u001b[39;00m\u001b[39m.\u001b[39;00m\u001b[39mutils\u001b[39;00m\u001b[39m.\u001b[39;00m\u001b[39msapien_utils\u001b[39;00m \u001b[39mimport\u001b[39;00m look_at, vectorize_pose\n\u001b[1;32m     13\u001b[0m \u001b[39mfrom\u001b[39;00m \u001b[39m.\u001b[39;00m\u001b[39mbase_env\u001b[39;00m \u001b[39mimport\u001b[39;00m StationaryManipulationEnv\n",
      "\u001b[0;31mImportError\u001b[0m: cannot import name 'register_env' from partially initialized module 'mani_skill2.utils.registration' (most likely due to a circular import) (/home/alvin/miniconda3/envs/ece/lib/python3.9/site-packages/mani_skill2/utils/registration.py)"
     ]
    }
   ],
   "source": [
    "from mani_skill2.utils.registration import register_env"
   ]
  },
  {
   "cell_type": "code",
   "execution_count": null,
   "metadata": {},
   "outputs": [],
   "source": []
  }
 ],
 "metadata": {
  "kernelspec": {
   "display_name": "Python 3.9.10 ('ece')",
   "language": "python",
   "name": "python3"
  },
  "language_info": {
   "codemirror_mode": {
    "name": "ipython",
    "version": 3
   },
   "file_extension": ".py",
   "mimetype": "text/x-python",
   "name": "python",
   "nbconvert_exporter": "python",
   "pygments_lexer": "ipython3",
   "version": "3.9.10"
  },
  "orig_nbformat": 4,
  "vscode": {
   "interpreter": {
    "hash": "ff05a74ae7a9d0a5dc6b99d038998757fdd9cb25ecaa85d43c84ca2c65cb4e52"
   }
  }
 },
 "nbformat": 4,
 "nbformat_minor": 2
}
