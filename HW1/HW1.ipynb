{
 "cells": [
  {
   "cell_type": "code",
   "execution_count": 1,
   "metadata": {},
   "outputs": [],
   "source": [
    "import numpy as np\n",
    "import math\n",
    "from scipy.spatial.transform import Rotation as R"
   ]
  },
  {
   "attachments": {},
   "cell_type": "markdown",
   "metadata": {},
   "source": [
    "Problem 2"
   ]
  },
  {
   "attachments": {},
   "cell_type": "markdown",
   "metadata": {},
   "source": [
    "1. The norm $\\| \\frac{p+q}{2} \\|$ is $\\frac{\\sqrt5}{2\\sqrt2}$ .\\\n",
    " The quaternion $r$ is $(\\frac{2}{\\sqrt5}, \\frac{1}{\\sqrt5}i)$, which is equal to $\\frac{2\\sqrt2}{\\sqrt5 }*\\frac{p+q}{2}$.\\\n",
    "T"
   ]
  },
  {
   "cell_type": "code",
   "execution_count": 2,
   "metadata": {},
   "outputs": [
    {
     "name": "stdout",
     "output_type": "stream",
     "text": [
      "[[ 1.   0.   0. ]\n",
      " [ 0.   0.6 -0.8]\n",
      " [ 0.   0.8  0.6]]\n",
      "[53.13010235  0.          0.        ]\n"
     ]
    }
   ],
   "source": [
    "r = R.from_quat([1/math.sqrt(5),0,0,2/math.sqrt(5)])\n",
    "print(r.as_matrix())\n",
    "print(r.as_euler('xyz',degrees=True))"
   ]
  },
  {
   "attachments": {},
   "cell_type": "markdown",
   "metadata": {},
   "source": [
    "2."
   ]
  },
  {
   "cell_type": "code",
   "execution_count": 3,
   "metadata": {},
   "outputs": [
    {
     "name": "stdout",
     "output_type": "stream",
     "text": [
      "[1.57079633 0.         0.        ]\n",
      "[0.         1.57079633 0.        ]\n",
      "1.5707963267948966\n"
     ]
    }
   ],
   "source": [
    "def skew_symmetric(array):\n",
    "    return np.array([[0, -array[2], array[1]], [array[2], 0, -array[0]], [-array[1], array[0], 0]])\n",
    "# print(np.identity(3) + np.sin(np.pi/2)*skew_symmetric([1,0,0]) + (1-np.cos(np.pi/2))*skew_symmetric([1,0,0])**2)\n",
    "# print(np.identity(3) + np.sin(np.pi/2)*skew_symmetric([0,1,0]) + (1-np.cos(np.pi/2))*skew_symmetric([0,1,0])**2)\n",
    "p = R.from_quat([1/math.sqrt(2),0,0,1/math.sqrt(2)])\n",
    "q = R.from_quat([0,1/math.sqrt(2),0,1/math.sqrt(2)])\n",
    "print(p.as_rotvec())\n",
    "print(q.as_rotvec())\n",
    "print(np.pi/2)"
   ]
  },
  {
   "attachments": {},
   "cell_type": "markdown",
   "metadata": {},
   "source": [
    "3."
   ]
  },
  {
   "attachments": {},
   "cell_type": "markdown",
   "metadata": {},
   "source": [
    "(a)"
   ]
  },
  {
   "cell_type": "code",
   "execution_count": 4,
   "metadata": {},
   "outputs": [
    {
     "name": "stdout",
     "output_type": "stream",
     "text": [
      "p:  [[ 0  0  0]\n",
      " [ 0  0 -1]\n",
      " [ 0  1  0]]\n",
      "p:  [[ 0  0  1]\n",
      " [ 0  0  0]\n",
      " [-1  0  0]]\n"
     ]
    }
   ],
   "source": [
    "print('p: ',skew_symmetric([1,0,0]))\n",
    "print('p: ',skew_symmetric([0,1,0]))"
   ]
  },
  {
   "cell_type": "code",
   "execution_count": 5,
   "metadata": {},
   "outputs": [
    {
     "name": "stdout",
     "output_type": "stream",
     "text": [
      "[[ 1.  0.  0.]\n",
      " [ 0.  0. -1.]\n",
      " [ 0.  1.  0.]]\n",
      "[[ 0.  0.  1.]\n",
      " [ 0.  1.  0.]\n",
      " [-1.  0.  0.]]\n"
     ]
    }
   ],
   "source": [
    "print(p.as_matrix())\n",
    "print(q.as_matrix())\n",
    "# p_skew = skew_symmetric()"
   ]
  },
  {
   "cell_type": "code",
   "execution_count": 6,
   "metadata": {},
   "outputs": [
    {
     "name": "stdout",
     "output_type": "stream",
     "text": [
      "[[ 1.00000000e+00  0.00000000e+00  0.00000000e+00]\n",
      " [ 0.00000000e+00  1.11022302e-16 -1.00000000e+00]\n",
      " [ 0.00000000e+00  1.00000000e+00  1.11022302e-16]]\n",
      "[[ 1.11022302e-16  0.00000000e+00  1.00000000e+00]\n",
      " [ 0.00000000e+00  1.00000000e+00  0.00000000e+00]\n",
      " [-1.00000000e+00  0.00000000e+00  1.11022302e-16]]\n"
     ]
    }
   ],
   "source": [
    "print(np.identity(3) + np.sin(np.pi/2)*skew_symmetric([1,0,0]) + (1-np.cos(np.pi/2))*skew_symmetric([1,0,0])@skew_symmetric([1,0,0]))\n",
    "print(np.identity(3) + np.sin(np.pi/2)*skew_symmetric([0,1,0]) + (1-np.cos(np.pi/2))*skew_symmetric([0,1,0])@skew_symmetric([0,1,0]))"
   ]
  },
  {
   "attachments": {},
   "cell_type": "markdown",
   "metadata": {},
   "source": [
    "(b)"
   ]
  },
  {
   "cell_type": "code",
   "execution_count": 13,
   "metadata": {},
   "outputs": [
    {
     "name": "stdout",
     "output_type": "stream",
     "text": [
      "[[1.         1.         2.71828183]\n",
      " [1.         1.         0.36787944]\n",
      " [0.36787944 2.71828183 1.        ]]\n",
      "[[2.36787944 3.         4.71828183]\n",
      " [2.13533528 2.36787944 4.08616127]\n",
      " [4.08616127 4.71828183 6.43656366]]\n",
      "False\n"
     ]
    }
   ],
   "source": [
    "left = np.exp(skew_symmetric([1,0,0])+skew_symmetric([0,1,0]))\n",
    "right = np.exp(skew_symmetric([1,0,0]))@np.exp(skew_symmetric([0,1,0]))\n",
    "print(left)\n",
    "print(right)\n",
    "print(np.allclose(left,right))"
   ]
  },
  {
   "attachments": {},
   "cell_type": "markdown",
   "metadata": {},
   "source": [
    "4."
   ]
  },
  {
   "cell_type": "code",
   "execution_count": 20,
   "metadata": {},
   "outputs": [
    {
     "name": "stdout",
     "output_type": "stream",
     "text": [
      "[90.  0.  0.]\n",
      "[ 0.  0. 90.]\n",
      "[ 1.57079633 -0.         -0.        ]\n",
      "[-0.          1.57079633 -0.        ]\n"
     ]
    }
   ],
   "source": [
    "p_prime = R.from_quat([-1/math.sqrt(2),0,0,-1/math.sqrt(2)])\n",
    "q_prime = R.from_quat([0,-1/math.sqrt(2),0,-1/math.sqrt(2)])\n",
    "print(p_prime.as_euler('xyz',True))\n",
    "print(q_prime.as_euler('zxy',True)) #zxy order\n",
    "print(p_prime.as_rotvec())\n",
    "print(q_prime.as_rotvec())"
   ]
  },
  {
   "cell_type": "code",
   "execution_count": 22,
   "metadata": {},
   "outputs": [
    {
     "name": "stdout",
     "output_type": "stream",
     "text": [
      "[53.13010235  0.          0.        ]\n",
      "[ 0.92729522 -0.         -0.        ]\n",
      "[0.92729522 0.         0.        ]\n"
     ]
    }
   ],
   "source": [
    "r_prime = R.from_quat([-1/math.sqrt(5),0,0,-2/math.sqrt(5)])\n",
    "print(r_prime.as_euler('xyz',True))\n",
    "print(r_prime.as_rotvec())\n",
    "print(r.as_rotvec())"
   ]
  },
  {
   "cell_type": "code",
   "execution_count": null,
   "metadata": {},
   "outputs": [],
   "source": []
  },
  {
   "attachments": {},
   "cell_type": "markdown",
   "metadata": {},
   "source": [
    "No."
   ]
  },
  {
   "cell_type": "code",
   "execution_count": 24,
   "metadata": {},
   "outputs": [
    {
     "name": "stdout",
     "output_type": "stream",
     "text": [
      "[[-5.87784881e-01 -8.09017264e-01 -4.91398311e-08]\n",
      " [-8.09017264e-01  5.87784881e-01  9.64422939e-08]\n",
      " [-4.91398311e-08  9.64422939e-08 -1.00000000e+00]]\n"
     ]
    }
   ],
   "source": [
    "test = R.from_quat([-0.453991,0.891007, 5.41199e-08, 0])\n",
    "print(test.as_matrix())"
   ]
  },
  {
   "cell_type": "code",
   "execution_count": null,
   "metadata": {},
   "outputs": [],
   "source": []
  }
 ],
 "metadata": {
  "kernelspec": {
   "display_name": "ece",
   "language": "python",
   "name": "python3"
  },
  "language_info": {
   "codemirror_mode": {
    "name": "ipython",
    "version": 3
   },
   "file_extension": ".py",
   "mimetype": "text/x-python",
   "name": "python",
   "nbconvert_exporter": "python",
   "pygments_lexer": "ipython3",
   "version": "3.8.12"
  },
  "orig_nbformat": 4,
  "vscode": {
   "interpreter": {
    "hash": "0ba98f3905f7b5ab964fa5d473cb2d6d1b6d31dd5d98c1b76bbc0f22523c1d93"
   }
  }
 },
 "nbformat": 4,
 "nbformat_minor": 2
}
