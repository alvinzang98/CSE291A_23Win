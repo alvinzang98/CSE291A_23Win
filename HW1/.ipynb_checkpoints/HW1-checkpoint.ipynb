{
 "cells": [
  {
   "cell_type": "code",
   "execution_count": 80,
   "metadata": {},
   "outputs": [],
   "source": [
    "import numpy as np\n",
    "import math\n",
    "import transforms3d as T"
   ]
  },
  {
   "cell_type": "markdown",
   "metadata": {},
   "source": [
    "Problem 2"
   ]
  },
  {
   "cell_type": "markdown",
   "metadata": {},
   "source": [
    "1. "
   ]
  },
  {
   "cell_type": "markdown",
   "metadata": {},
   "source": [
    "$\\frac{p+q}{2}= \\frac{1}{\\sqrt2}+\\frac{1}{2\\sqrt2}i+\\frac{1}{2\\sqrt2}j$\\\n",
    "The norm $\\| \\frac{p+q}{2} \\|$ is $\\frac{\\sqrt3}{2}$ .\\\n",
    "The quaternion $r$ is $\\frac{\\sqrt6}{3}+\\frac{\\sqrt6}{6}i+\\frac{\\sqrt6}{6}j$"
   ]
  },
  {
   "cell_type": "markdown",
   "metadata": {},
   "source": [
    "Rotation matrix of $r$ is \n",
    "$$\n",
    "M(r) = \n",
    "\\left[ \n",
    "    \\begin{matrix}\n",
    "    \\frac{2}{3} & \\frac{1}{3} & \\frac{2}{3} \\\\\n",
    "    \\frac{1}{3} & \\frac{2}{3} & -\\frac{2}{3} \\\\\n",
    "    -\\frac{2}{3} & \\frac{2}{3} & \\frac{1}{3} \n",
    "    \\end{matrix}\n",
    "\\right]\n",
    "$$"
   ]
  },
  {
   "cell_type": "markdown",
   "metadata": {},
   "source": [
    "The axis $M(r)$ rotates is \n",
    "$$\\left[ \\frac{\\sqrt2}{2}, \\frac{\\sqrt2}{2},0\\right]^T$$\n",
    "The angle of rotation is $70.53^\\circ .$"
   ]
  },
  {
   "cell_type": "code",
   "execution_count": 81,
   "metadata": {},
   "outputs": [
    {
     "name": "stdout",
     "output_type": "stream",
     "text": [
      "The rotation matrix of r is \n",
      " [[ 0.66666667  0.33333333  0.66666667]\n",
      " [ 0.33333333  0.66666667 -0.66666667]\n",
      " [-0.66666667  0.66666667  0.33333333]]\n",
      "The aixs M(r) rotate is  [0.70710678 0.70710678 0.        ]\n",
      "The angle of rotation is  70.52877936550931\n"
     ]
    }
   ],
   "source": [
    "r_quat = [math.sqrt(6)/3,math.sqrt(6)/6,math.sqrt(6)/6,0]\n",
    "r_mat = T.quaternions.quat2mat(r_quat)\n",
    "print('The rotation matrix of r is \\n',r_mat)\n",
    "r_vec,r_theta = T.quaternions.quat2axangle(r_quat)\n",
    "print('The aixs M(r) rotate is ',r_vec)\n",
    "print('The angle of rotation is ',np.rad2deg(r_theta))"
   ]
  },
  {
   "cell_type": "markdown",
   "metadata": {},
   "source": [
    "2."
   ]
  },
  {
   "cell_type": "markdown",
   "metadata": {},
   "source": [
    "The exponential coordinates of $p$ is $\\left[ \\frac{\\pi}{2},0,0 \\right]$.\\\n",
    "The exponential coordinates of $q$ is $\\left[ 0,\\frac{\\pi}{2},0 \\right]$."
   ]
  },
  {
   "cell_type": "code",
   "execution_count": 82,
   "metadata": {},
   "outputs": [
    {
     "name": "stdout",
     "output_type": "stream",
     "text": [
      "The exponential coordinates are [1.57079633 0.         0.        ]\n",
      "The exponential coordinates are [0.         1.57079633 0.        ]\n"
     ]
    }
   ],
   "source": [
    "p_quat,q_quat = [1/math.sqrt(2),1/math.sqrt(2),0,0],[1/math.sqrt(2),0,1/math.sqrt(2),0]\n",
    "p_vec,p_theta = T.quaternions.quat2axangle(p_quat)\n",
    "q_vec,q_theta = T.quaternions.quat2axangle(q_quat)\n",
    "print(\"The exponential coordinates are\",p_vec*p_theta)\n",
    "print(\"The exponential coordinates are\",q_vec*q_theta)"
   ]
  },
  {
   "cell_type": "markdown",
   "metadata": {},
   "source": [
    "3.(a)"
   ]
  },
  {
   "cell_type": "markdown",
   "metadata": {},
   "source": [
    "$$\n",
    "\\left[ \\omega_p \\right] = \\left[ \\begin{matrix}0 & 0 &0 \\\\0 &0 &-\\frac{\\pi}{2} \\\\0 &\\frac{\\pi}{2} &0 \\end{matrix} \\right]\n",
    "$$\n",
    "$$\n",
    "\\left[ \\omega_q \\right] = \\left[ \\begin{matrix}0 & 0 &\\frac{\\pi}{2} \\\\0 &0 &0 \\\\-\\frac{\\pi}{2} &0 &0 \\end{matrix} \\right]\n",
    "$$\n",
    "$$\n",
    "\\exp(\\left[ \\omega_p \\right]) = \\left[ \\begin{matrix}1 & 0 &0 \\\\0 &0 &-1 \\\\0 &1 &0 \\end{matrix} \\right]\n",
    "$$\n",
    "$$\n",
    "\\exp(\\left[ \\omega_q \\right]) = \\left[ \\begin{matrix}0 & 0 &1 \\\\0 &1 &0 \\\\-1 &0 &0 \\end{matrix} \\right]\n",
    "$$"
   ]
  },
  {
   "cell_type": "code",
   "execution_count": 83,
   "metadata": {},
   "outputs": [
    {
     "name": "stdout",
     "output_type": "stream",
     "text": [
      "[p]: \n",
      " [[ 0.         -0.          0.        ]\n",
      " [ 0.          0.         -1.57079633]\n",
      " [-0.          1.57079633  0.        ]]\n",
      "[q]: \n",
      " [[ 0.         -0.          1.57079633]\n",
      " [ 0.          0.         -0.        ]\n",
      " [-1.57079633  0.          0.        ]]\n"
     ]
    }
   ],
   "source": [
    "def skew_symmetric(array):\n",
    "    return np.array([[0, -array[2], array[1]], [array[2], 0, -array[0]], [-array[1], array[0], 0]])\n",
    "print('[p]: \\n',skew_symmetric(p_vec*p_theta))\n",
    "print('[q]: \\n',skew_symmetric(q_vec*q_theta))"
   ]
  },
  {
   "cell_type": "code",
   "execution_count": 84,
   "metadata": {},
   "outputs": [
    {
     "name": "stdout",
     "output_type": "stream",
     "text": [
      "[[ 1.00000000e+00  0.00000000e+00  0.00000000e+00]\n",
      " [ 0.00000000e+00  1.11022302e-16 -1.00000000e+00]\n",
      " [ 0.00000000e+00  1.00000000e+00  1.11022302e-16]]\n",
      "[[ 1.11022302e-16  0.00000000e+00  1.00000000e+00]\n",
      " [ 0.00000000e+00  1.00000000e+00  0.00000000e+00]\n",
      " [-1.00000000e+00  0.00000000e+00  1.11022302e-16]]\n"
     ]
    }
   ],
   "source": [
    "def exp_skew(array,angle):\n",
    "    ex = np.identity(array.shape[0])+np.sin(angle)*array+(1-np.cos(angle))*array@array\n",
    "    return ex\n",
    "print(exp_skew(skew_symmetric(p_vec),p_theta))\n",
    "print(exp_skew(skew_symmetric(q_vec),q_theta))"
   ]
  },
  {
   "cell_type": "markdown",
   "metadata": {},
   "source": [
    "3.(b)"
   ]
  },
  {
   "cell_type": "markdown",
   "metadata": {},
   "source": [
    "$$\\exp(\\left[ \\omega_p \\right]+\\left[ \\omega_q \\right])=\n",
    "\\left[ \\begin{matrix}\n",
    "\\frac{1}{2}+\\frac{\\cos(\\frac{\\pi}{\\sqrt2})}{2} & \\frac{1}{2}-\\frac{\\cos(\\frac{\\pi}{\\sqrt2})}{2} & \\frac{\\sin(\\frac{\\pi}{\\sqrt2})}{\\sqrt2}\\\\\n",
    "\\frac{1}{2}-\\frac{\\cos(\\frac{\\pi}{\\sqrt2})}{2} & \\frac{1}{2}+\\frac{\\cos(\\frac{\\pi}{\\sqrt2})}{2} & -\\frac{\\sin(\\frac{\\pi}{\\sqrt2})}{\\sqrt2}\\\\\n",
    "-\\frac{\\sin(\\frac{\\pi}{\\sqrt2})}{\\sqrt2} & \\frac{\\sin(\\frac{\\pi}{\\sqrt2})}{\\sqrt2} &\\cos(\\frac{\\pi}{\\sqrt2})\n",
    "\\end{matrix}\n",
    "\\right]\n",
    "$$\n",
    "\n",
    "$$\n",
    "\\exp(\\left[ \\omega_p \\right])\\exp(\\left[ \\omega_q \\right])=\n",
    "\\left[\n",
    "    \\begin{matrix}\n",
    "    0 & 0 & 1\\\\\n",
    "    1 & 0 & 0\\\\\n",
    "    0 & 1 & 0\n",
    "    \\end{matrix}\n",
    "\\right]\n",
    "$$"
   ]
  },
  {
   "cell_type": "markdown",
   "metadata": {},
   "source": [
    "4.(a)"
   ]
  },
  {
   "cell_type": "markdown",
   "metadata": {},
   "source": [
    "The exponential coordinates of $p^\\prime$ is $\\left[ -\\frac{3\\pi}{2},0,0 \\right]$.\\\n",
    "The exponential coordinates of $q^\\prime$ is $\\left[ 0,-\\frac{3\\pi}{2},0 \\right]$.\\\n",
    "$p$ and $-p$, $q$ and $-q$, $r$ and $-r$ represent the same rotation respectively."
   ]
  },
  {
   "cell_type": "markdown",
   "metadata": {},
   "source": [
    "So if r is a rotation quaternion, then r and −r will produce the same rotation.\\\n",
    "Proof:\n",
    "Let $r=\\cos(\\frac{\\theta}{2}) + \\sin(\\frac{\\theta}{2})(i+j+k)$ represent the rotation $\\theta$ .\\\n",
    "Rotation $\\theta$ and $2\\pi-\\theta$ are the same rotation. \\\n",
    "$r^\\prime=\\cos(\\frac{2\\pi-\\theta}{2}) + \\sin(\\frac{2\\pi-\\theta}{2})(-i-j-k)=-\\cos(\\frac{\\theta}{2}) - \\sin\\frac{\\theta}{2}(i+j+k)=-r$\\\n",
    "Hence, (r,-r) are the same rotation."
   ]
  },
  {
   "cell_type": "code",
   "execution_count": 79,
   "metadata": {},
   "outputs": [
    {
     "name": "stdout",
     "output_type": "stream",
     "text": [
      "4.71238898038469 [-1. -0. -0.]\n",
      "The exponential coordinates are [-4.71238898 -0.         -0.        ]\n",
      "The exponential coordinates are [-0.         -4.71238898 -0.        ]\n"
     ]
    }
   ],
   "source": [
    "q_prime_quat = -np.array(q_quat)\n",
    "p_prime_quat = -np.array(p_quat)\n",
    "q_prime_vec,q_prime_theta = T.quaternions.quat2axangle(q_prime_quat)\n",
    "p_prime_vec,p_prime_theta = T.quaternions.quat2axangle(p_prime_quat)\n",
    "print(\"The exponential coordinates are\",p_prime_vec*p_prime_theta)\n",
    "print(\"The exponential coordinates are\",q_prime_vec*q_prime_theta)"
   ]
  },
  {
   "cell_type": "markdown",
   "metadata": {},
   "source": [
    "4(b)"
   ]
  },
  {
   "cell_type": "markdown",
   "metadata": {},
   "source": [
    "In neural network, we are going to minimize the loss function, which is the L2 distance in the question. If the ground truth is r and the predicted result is -r, the Ls distance is the largest. But actually they represent the same rotation, the loss function should be zero. Therefore, we couldn't use L2 distance to regress the quaternion outputs."
   ]
  },
  {
   "cell_type": "markdown",
   "metadata": {},
   "source": [
    "Problem 4"
   ]
  },
  {
   "cell_type": "markdown",
   "metadata": {},
   "source": [
    "1."
   ]
  },
  {
   "cell_type": "markdown",
   "metadata": {},
   "source": [
    "The output of the last case is \n",
    "![1](q4_1.png)"
   ]
  },
  {
   "cell_type": "markdown",
   "metadata": {},
   "source": [
    "2."
   ]
  },
  {
   "cell_type": "markdown",
   "metadata": {},
   "source": [
    "$$ T(\\boldsymbol{\\theta}) = \\left[ \\begin{matrix}\n",
    "cos(\\theta_1 +\\theta_2) & sin(\\theta_1 +\\theta_2) & 0 & 2sin(\\theta_1 +\\theta_2) + 1.6sin(\\theta_1)\\\\\n",
    "-sin(\\theta_1 +\\theta_2) & cos(\\theta_1 +\\theta_2) & 0 & 2cos(\\theta_1 +\\theta_2) + 1.6cos(\\theta_1)\\\\\n",
    "0 & 0 & 1 & -\\theta_3 + 0.85\\\\\n",
    "0 & 0 & 0 & 1 \\\\ \n",
    "\\end{matrix} \\right] $$ "
   ]
  },
  {
   "cell_type": "markdown",
   "metadata": {},
   "source": [
    "3."
   ]
  },
  {
   "cell_type": "markdown",
   "metadata": {},
   "source": [
    "The first two joints, $q_1$ and $q_2$ points to the z-axis in the base frame.(depends on the definition, I defined they rotate the z-axis of base frame pointing downward.) So the two links connected to them must move in x-y plane. The work space of link 1, is a circle with radius of length of link, which is the area joint 2 can reach. Link 2 is rotating along joint 2, so the workspace is a semi-circle given a fixed $q_1$. I tried to plot the horizontal view of work space, which is a ring with inner radius 1.6 and outter radius 4.2 (Assume the base link is origin), as shown below. Because $q_3$ is the primastic joint that only has translational moving ability. The final reachable workspace looks like a hollow cylinder, as shown in the second plot below. The height of this workspace is 2 and range is [-0.9,1.1] in the vertical z axis."
   ]
  },
  {
   "cell_type": "code",
   "execution_count": 32,
   "metadata": {},
   "outputs": [
    {
     "data": {
      "image/png": "[encoded data removed]",
      "text/plain": [
       "<Figure size 360x360 with 1 Axes>"
      ]
     },
     "metadata": {
      "needs_background": "light"
     },
     "output_type": "display_data"
    }
   ],
   "source": [
    "import matplotlib.pyplot as plt\n",
    "a=np.linspace(0,2*np.pi,100)\n",
    "b = np.linspace(-np.pi/2,np.pi/2,100)\n",
    "plt.figure(figsize=(5,5))\n",
    "plt.plot(1.6*np.cos(a),1.6*np.sin(a))\n",
    "for i in a:\n",
    "    plt.plot(1.6*np.cos(i)+2.6*np.cos(i+b),1.6*np.sin(i)+2.6*np.sin(i+b),'b')\n",
    "    x = 1.6*np.cos(i)+2.6*np.cos(i+b)\n",
    "    y = 1.6*np.sin(i)+2.6*np.sin(i+b)\n",
    "    plt.plot([x[0],x[-1]],[y[0],y[-1]],'b')"
   ]
  },
  {
   "cell_type": "markdown",
   "metadata": {},
   "source": [
    "![rw](rw.png)"
   ]
  },
  {
   "cell_type": "markdown",
   "metadata": {},
   "source": [
    "4."
   ]
  },
  {
   "cell_type": "markdown",
   "metadata": {},
   "source": [
    "$$\n",
    "q^e = \\left[ \\begin{matrix}\n",
    "x_e\\\\ y_e\\\\ z_e\n",
    "\\end{matrix}\\right] = \\left[ \\begin{matrix}\n",
    "0 \\\\ -0.55 \\\\ -0.35\n",
    "\\end{matrix}\\right], \\quad\n",
    "q^s = \\left[ \\begin{matrix}\n",
    "x_s\\\\ y_s\\\\ z_s\n",
    "\\end{matrix}\\right]\n",
    "$$\n"
   ]
  },
  {
   "cell_type": "markdown",
   "metadata": {},
   "source": [
    "$$\n",
    "\\left[ \\begin{matrix}\n",
    "x_s\\\\ y_s\\\\ z_s \\\\1\n",
    "\\end{matrix}\\right]=\n",
    "T_{s \\rarr e}(\\boldsymbol{\\theta}) \\left[ \\begin{matrix}\n",
    "x_e\\\\ y_e\\\\ z_e \\\\1\n",
    "\\end{matrix}\\right],\n",
    "$$"
   ]
  },
  {
   "cell_type": "markdown",
   "metadata": {},
   "source": [
    "$$\n",
    "q^s  =\n",
    "\\left[ \\begin{matrix}\n",
    "x_s\\\\ y_s\\\\ z_s \n",
    "\\end{matrix}\\right]=\n",
    "\\left[ \\begin{matrix}\n",
    "1.45sin(\\theta_1 +\\theta_2) + 1.6sin(\\theta_1) \\\\\n",
    "1.45cos(\\theta_1 +\\theta_2) + 1.6cos(\\theta_1)  \\\\\n",
    "0.5 -\\theta_3\n",
    "\\end{matrix} \\right]\n",
    "$$"
   ]
  },
  {
   "cell_type": "markdown",
   "metadata": {},
   "source": [
    "$$\\dot{q^s} = \\left[ \\begin{matrix}\n",
    "\\dot{x_s}\\\\ \\dot{y_s}\\\\ \\dot{z_s} \n",
    "\\end{matrix}\\right] = \n",
    "\\left[ \\begin{matrix}\n",
    "1.45cos(\\theta_1 +\\theta_2) + 1.6sin(\\theta_1) \\\\\n",
    "-1.45sin(\\theta_1 +\\theta_2) - 1.6sin(\\theta_1)  \\\\\n",
    "0\n",
    "\\end{matrix} \\right] \\dot{\\theta_1} + \n",
    "\\left[ \\begin{matrix}\n",
    "1.45cos(\\theta_1 +\\theta_2) \\\\\n",
    "-1.45sin(\\theta_1 +\\theta_2) \\\\\n",
    "0\n",
    "\\end{matrix} \\right] \\dot{\\theta_2} +\n",
    "\\left[\\begin{matrix} 0\\\\0\\\\-1 \\end{matrix}\\right] \\dot{\\theta_3}\n",
    "$$"
   ]
  },
  {
   "cell_type": "markdown",
   "metadata": {},
   "source": [
    "Given $\\theta=\\left[-\\frac{\\pi}{6},\\frac{\\pi}{6},\\frac{1}{2}\\right]$, $\\dot{\\theta}=\\left[1,2,1\\right]$, \n",
    "$$\\dot{q^s} = \\left[\n",
    "    \\begin{matrix}\n",
    "    4.2856\\\\0.8\\\\-1\n",
    "    \\end{matrix}\n",
    " \\right]$$"
   ]
  },
  {
   "cell_type": "markdown",
   "metadata": {},
   "source": [
    "$$\n",
    "T_{s \\rarr e}^{-1} = \n",
    "\\left[ \\begin{matrix}\n",
    "cos(\\theta_1 +\\theta_2) & -sin(\\theta_1 +\\theta_2) & 0 & 1.6sin(\\theta_2)\\\\\n",
    "sin(\\theta_1 +\\theta_2) & cos(\\theta_1 +\\theta_2) & 0 & -1.6cos(\\theta_2)-2\\\\\n",
    "0 & 0 & 1 & \\theta_3 - 0.85 \\\\\n",
    "0 & 0 & 0 & 1\n",
    "\\end{matrix} \\right]\n",
    "$$"
   ]
  },
  {
   "cell_type": "markdown",
   "metadata": {},
   "source": [
    "$$\n",
    "\\dot{q^e}  =\n",
    "\\left[ \\begin{matrix}\n",
    "\\dot{x_e}\\\\ \\dot{y_e}\\\\ \\dot{z_e} \n",
    "\\end{matrix}\\right]\n",
    "=\\left[ \\begin{matrix}\n",
    "5.08564 \\\\ -2.58564 \\\\ -1.35\n",
    "\\end{matrix}\\right]\n",
    "\n",
    "\n",
    "$$"
   ]
  },
  {
   "cell_type": "markdown",
   "metadata": {},
   "source": [
    "Problem 4 Contributions"
   ]
  },
  {
   "cell_type": "markdown",
   "metadata": {},
   "source": [
    "."
   ]
  },
  {
   "cell_type": "code",
   "execution_count": null,
   "metadata": {},
   "outputs": [],
   "source": []
  }
 ],
 "metadata": {
  "kernelspec": {
   "display_name": "Python 3 (ipykernel)",
   "language": "python",
   "name": "python3"
  },
  "language_info": {
   "codemirror_mode": {
    "name": "ipython",
    "version": 3
   },
   "file_extension": ".py",
   "mimetype": "text/x-python",
   "name": "python",
   "nbconvert_exporter": "python",
   "pygments_lexer": "ipython3",
   "version": "3.9.15"
  },
  "vscode": {
   "interpreter": {
    "hash": "3db9745694e246ed08444ef54309244a4494ead59ebd05335cca3eab5721f7ef"
   }
  }
 },
 "nbformat": 4,
 "nbformat_minor": 2
}
