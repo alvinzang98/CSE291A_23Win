{
 "cells": [
  {
   "cell_type": "code",
   "execution_count": null,
   "metadata": {},
   "outputs": [],
   "source": []
  },
  {
   "attachments": {},
   "cell_type": "markdown",
   "metadata": {},
   "source": [
    "$$ T(\\boldsymbol{\\theta}) = \\left[ \\begin{matrix}\n",
    "cos(\\theta_1 +\\theta_2) & sin(\\theta_1 +\\theta_2) & 0 & 2sin(\\theta_1 +\\theta_2) + 1.6sin(\\theta_1)\\\\\n",
    "-sin(\\theta_1 +\\theta_2) & cos(\\theta_1 +\\theta_2) & 0 & 2cos(\\theta_1 +\\theta_2) + 1.6cos(\\theta_1)\\\\\n",
    "0 & 0 & 1 & -\\theta_3 + 0.85\\\\\n",
    "0 & 0 & 0 & 1 \\\\ \n",
    "\\end{matrix} \\right] $$ "
   ]
  },
  {
   "attachments": {},
   "cell_type": "markdown",
   "metadata": {},
   "source": [
    "$$\n",
    "q^e = \\left[ \\begin{matrix}\n",
    "x_e\\\\ y_e\\\\ z_e\n",
    "\\end{matrix}\\right], \\quad\n",
    "q^s = \\left[ \\begin{matrix}\n",
    "x_s\\\\ y_s\\\\ z_s\n",
    "\\end{matrix}\\right]\n",
    "$$\n"
   ]
  },
  {
   "attachments": {},
   "cell_type": "markdown",
   "metadata": {},
   "source": [
    "$$\n",
    "\\left[ \\begin{matrix}\n",
    "x_s\\\\ y_s\\\\ z_s\n",
    "\\end{matrix}\\right]=\n",
    "T_{s \\rarr e}(\\boldsymbol{\\theta}) \\left[ \\begin{matrix}\n",
    "x_e\\\\ y_e\\\\ z_e\n",
    "\\end{matrix}\\right],\n",
    "$$"
   ]
  },
  {
   "attachments": {},
   "cell_type": "markdown",
   "metadata": {},
   "source": [
    "$$\n",
    "\\left[ \\begin{matrix}\n",
    "x_s\\\\ y_s\\\\ z_s\n",
    "\\end{matrix}\\right]=\n",
    "\\left[ \\begin{matrix}\n",
    "2sin(\\theta_1 +\\theta_2) + 1.6sin(\\theta_1) + x_ecos(\\theta_1 +\\theta_2)+y_esin(\\theta_1 +\\theta_2)\\\\\n",
    "2cos(\\theta_1 +\\theta_2) + 1.6cos(\\theta_1) +y_ecos(\\theta_1 +\\theta_2)-x_esin(\\theta_1 +\\theta_2) \\\\\n",
    "z_e -\\theta_3 + 0.85 \\\\\n",
    "1\n",
    "\\end{matrix} \\right]\n",
    "$$"
   ]
  },
  {
   "cell_type": "markdown",
   "metadata": {},
   "source": []
  }
 ],
 "metadata": {
  "kernelspec": {
   "display_name": "base",
   "language": "python",
   "name": "python3"
  },
  "language_info": {
   "name": "python",
   "version": "3.9.5 (default, May 18 2021, 14:42:02) [MSC v.1916 64 bit (AMD64)]"
  },
  "orig_nbformat": 4,
  "vscode": {
   "interpreter": {
    "hash": "074dba7ff5f39c60f8d1e1c71fa9334245422e66417a9f1b182d2451b4a6699e"
   }
  }
 },
 "nbformat": 4,
 "nbformat_minor": 2
}
